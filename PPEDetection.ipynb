{
 "cells": [
  {
   "cell_type": "code",
   "execution_count": null,
   "id": "8a29d8ac",
   "metadata": {
    "scrolled": true
   },
   "outputs": [],
   "source": [
    "#go into the folder you want, initialize an empty repo\n",
    "!git init"
   ]
  },
  {
   "cell_type": "code",
   "execution_count": null,
   "id": "9ac71419",
   "metadata": {},
   "outputs": [],
   "source": [
    "#Add the files you want to push. Use add . if you wanna add all the files.\n",
    "!git add PPEDetection.ipynb\n"
   ]
  },
  {
   "cell_type": "code",
   "execution_count": null,
   "id": "f2b2e969",
   "metadata": {},
   "outputs": [],
   "source": [
    "!git add ppe.pt"
   ]
  },
  {
   "cell_type": "code",
   "execution_count": null,
   "id": "b756d398",
   "metadata": {},
   "outputs": [],
   "source": [
    "#Commit all the files you have added. Also write down a message\n",
    "!git commit -m \"updated the code\""
   ]
  },
  {
   "cell_type": "code",
   "execution_count": null,
   "id": "2fbfdc45",
   "metadata": {},
   "outputs": [],
   "source": [
    "#Create a branch called main\n",
    "!git branch -M main\n"
   ]
  },
  {
   "cell_type": "code",
   "execution_count": null,
   "id": "b79170fb",
   "metadata": {},
   "outputs": [],
   "source": [
    "#git remote add origin into the github repo you want.\n",
    "!git remote add origin https://github.com/Ngonidzashe-ux/PPEDetectionSystem.git"
   ]
  },
  {
   "cell_type": "code",
   "execution_count": null,
   "id": "48bfef6c",
   "metadata": {
    "scrolled": true
   },
   "outputs": [],
   "source": [
    "#Push the changes to the main branch\n",
    "!git push -u origin main"
   ]
  },
  {
   "cell_type": "code",
   "execution_count": null,
   "id": "d92c2048",
   "metadata": {},
   "outputs": [],
   "source": [
    "#Check the status of your commits\n",
    "!git status"
   ]
  },
  {
   "cell_type": "code",
   "execution_count": null,
   "id": "546b95f9",
   "metadata": {},
   "outputs": [],
   "source": [
    "!git pull "
   ]
  },
  {
   "cell_type": "markdown",
   "id": "40c4cd00",
   "metadata": {},
   "source": [
    "## 1. Import the required modules"
   ]
  },
  {
   "cell_type": "code",
   "execution_count": null,
   "id": "634f2b31",
   "metadata": {},
   "outputs": [],
   "source": [
    "import cv2\n",
    "from ultralytics import YOLO\n",
    "import os\n",
    "import math\n",
    "import cvzone"
   ]
  },
  {
   "cell_type": "markdown",
   "id": "30d153bf",
   "metadata": {},
   "source": [
    "## 2. Define Model Instance\n",
    "\n",
    "\n"
   ]
  },
  {
   "cell_type": "code",
   "execution_count": null,
   "id": "847cc900",
   "metadata": {},
   "outputs": [],
   "source": [
    "#Create our YOLO instance by passing in the custom trained model.\n",
    "model = YOLO('ppe.pt')\n",
    "classNames = ['Excavator', 'Gloves', 'Hardhat', 'Ladder', 'Mask', 'NO-Hardhat', 'NO-Mask', 'NO-Safety Vest', 'Person', 'SUV', 'Safety Cone', 'Safety Vest', 'bus', 'dump truck', 'fire hydrant', 'machinery', 'mini-van', 'sedan', 'semi', 'trailer', 'truck and trailer', 'truck', 'van', 'vehicle', 'wheel loader']\n"
   ]
  },
  {
   "cell_type": "markdown",
   "id": "507eef1a",
   "metadata": {},
   "source": [
    "## 3. Capture Video and Classify\n",
    "\n"
   ]
  },
  {
   "cell_type": "code",
   "execution_count": null,
   "id": "4d87bc69",
   "metadata": {},
   "outputs": [],
   "source": [
    "#create a webcam object\n",
    "#cap = cv2.VideoCapture(0)\n",
    "\n",
    "#Pass a video\n",
    "cap = cv2.VideoCapture('../Videos/ppe1.mp4')\n",
    "\n",
    "myColor = (0,0,255) #Blue\n",
    "\n",
    "while True:\n",
    "    \n",
    "    #read a frame and pass it into the model\n",
    "    success, img = cap.read()\n",
    "    results = model(img, stream=True)\n",
    "    for r in results:\n",
    "        boxes=r.boxes\n",
    "        for box in boxes:\n",
    "            \n",
    "            #Get the coordinates of the 4 corners of the box\n",
    "            x1,y1,x2,y2 = box.xyxy[0]\n",
    "            \n",
    "            #convert the coordinates from tensor type to int type\n",
    "            x1,x2,y1,y2 =int(x1),int(x2),int(y1),int(y2)\n",
    "            \n",
    "            #debugging\n",
    "            print(x1,y1,x2, y2)\n",
    "            \n",
    "            #x1,y1,w,h\n",
    "            bbox = x1,y1, x2-x1, y2-y1\n",
    "            \n",
    "            #Confidence value that is in the tensor type and we round it up to the ceil and express in 2 dp\n",
    "            conf = math.ceil((box.conf[0]*100))/100\n",
    "            \n",
    "            cls = int(box.cls[0])\n",
    "            currentClass = classNames[cls]\n",
    "            if conf > 0.5:\n",
    "                if currentClass == 'NO-Hardhat' or currentClass == 'NO-Safety Vest' or currentClass == 'NO-Mask' or currentClass == 'NO-Gloves':\n",
    "                    myColor = (0,0,255) #Red\n",
    "                elif currentClass == 'Hardhat' or currentClass == 'Safety Vest' or currentClass == 'Mask' or currentClass == 'Gloves':\n",
    "                    myColor = (0,255,0) #Green\n",
    "                else:\n",
    "                    myColor = (255,0,0) #Blue\n",
    "\n",
    "            #put the classname, label and bounding box\n",
    "            cvzone.putTextRect(img, \"{} {}\".format(classNames[cls], conf), (max(0,x1), max(35,y1)), scale=3.5, offset=5, thickness=1, colorB=myColor, colorT=(255, 255, 255), colorR=myColor)\n",
    "            cv2.rectangle(img, (x1,y1), (x2,y2), myColor, 3)\n",
    "\n",
    "    window_name = \"Image\"\n",
    "    \n",
    "    #display the frame img in a new window labeled 'Image'\n",
    "    cv2.imshow(window_name, img)\n",
    "    \n",
    "    #move the window to my primary monitor\n",
    "    cv2.moveWindow(window_name, 0, 0)\n",
    "     \n",
    "    #Removes window 2s after key pressing\n",
    "    cv2.waitKey(2)\n",
    "        "
   ]
  },
  {
   "cell_type": "code",
   "execution_count": null,
   "id": "52266d2f",
   "metadata": {},
   "outputs": [],
   "source": []
  }
 ],
 "metadata": {
  "kernelspec": {
   "display_name": "Python 3 (ipykernel)",
   "language": "python",
   "name": "python3"
  },
  "language_info": {
   "codemirror_mode": {
    "name": "ipython",
    "version": 3
   },
   "file_extension": ".py",
   "mimetype": "text/x-python",
   "name": "python",
   "nbconvert_exporter": "python",
   "pygments_lexer": "ipython3",
   "version": "3.9.12"
  }
 },
 "nbformat": 4,
 "nbformat_minor": 5
}
